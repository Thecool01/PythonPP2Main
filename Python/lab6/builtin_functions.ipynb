{
 "cells": [
  {
   "cell_type": "markdown",
   "metadata": {},
   "source": [
    "#### 1. Write a Python program with builtin function to multiply all the numbers in a list"
   ]
  },
  {
   "cell_type": "code",
   "execution_count": 4,
   "metadata": {},
   "outputs": [
    {
     "name": "stdout",
     "output_type": "stream",
     "text": [
      "The product of the numbers [3, 41, 5, 2, 3, 1, 23] is 84870\n"
     ]
    }
   ],
   "source": [
    "import math\n",
    "\n",
    "list_of_numbers = list(map(int, input(\"Enter the numbers by space: \").split()))\n",
    "\n",
    "print(f\"The product of the numbers {list_of_numbers} is {math.prod(list_of_numbers)}\")"
   ]
  },
  {
   "cell_type": "markdown",
   "metadata": {},
   "source": [
    "#### 2. Write a Python program with builtin function that accepts a string and calculate the number of upper case letters and lower case letters"
   ]
  },
  {
   "cell_type": "code",
   "execution_count": 5,
   "metadata": {},
   "outputs": [
    {
     "name": "stdout",
     "output_type": "stream",
     "text": [
      "The string is: Hello\n",
      "The count of Uppercase letters: 1\n",
      "The count of Lowercase letters: 4\n"
     ]
    }
   ],
   "source": [
    "import string\n",
    "def counting_of_letters(str):\n",
    "    \n",
    "    count_of_uppercase = 0\n",
    "    count_of_lowercase = 0\n",
    "    for letter in str:\n",
    "        if letter.isupper():\n",
    "            count_of_uppercase += 1\n",
    "        elif letter.islower():\n",
    "            count_of_lowercase += 1\n",
    "    \n",
    "    print(f\"The string is: {str}\")\n",
    "    print(f\"The count of Uppercase letters: {count_of_uppercase}\")\n",
    "    print(f\"The count of Lowercase letters: {count_of_lowercase}\")\n",
    "\n",
    "counting_of_letters(\"Hello\")"
   ]
  }
 ],
 "metadata": {
  "kernelspec": {
   "display_name": "base",
   "language": "python",
   "name": "python3"
  },
  "language_info": {
   "codemirror_mode": {
    "name": "ipython",
    "version": 3
   },
   "file_extension": ".py",
   "mimetype": "text/x-python",
   "name": "python",
   "nbconvert_exporter": "python",
   "pygments_lexer": "ipython3",
   "version": "3.11.5"
  }
 },
 "nbformat": 4,
 "nbformat_minor": 2
}

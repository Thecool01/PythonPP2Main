{
 "cells": [
  {
   "cell_type": "markdown",
   "metadata": {},
   "source": [
    "#### 1. Write a Python program with builtin function to multiply all the numbers in a list"
   ]
  },
  {
   "cell_type": "code",
   "execution_count": 4,
   "metadata": {},
   "outputs": [
    {
     "name": "stdout",
     "output_type": "stream",
     "text": [
      "The product of the numbers [3, 41, 5, 2, 3, 1, 23] is 84870\n"
     ]
    }
   ],
   "source": [
    "import math\n",
    "\n",
    "list_of_numbers = list(map(int, input(\"Enter the numbers by space: \").split()))\n",
    "\n",
    "print(f\"The product of the numbers {list_of_numbers} is {math.prod(list_of_numbers)}\")"
   ]
  },
  {
   "cell_type": "markdown",
   "metadata": {},
   "source": [
    "#### 2. Write a Python program with builtin function that accepts a string and calculate the number of upper case letters and lower case letters"
   ]
  },
  {
   "cell_type": "code",
   "execution_count": 2,
   "metadata": {},
   "outputs": [
    {
     "name": "stdout",
     "output_type": "stream",
     "text": [
      "The string is: Nice\n",
      "The count of Uppercase letters: 1\n",
      "The count of Lowercase letters: 3\n"
     ]
    }
   ],
   "source": [
    "import string\n",
    "def counting_of_letters(str):\n",
    "    \n",
    "    count_of_uppercase = 0\n",
    "    count_of_lowercase = 0\n",
    "    for letter in str:\n",
    "        if letter.isupper():\n",
    "            count_of_uppercase += 1\n",
    "        elif letter.islower():\n",
    "            count_of_lowercase += 1\n",
    "    \n",
    "    print(f\"The string is: {str}\")\n",
    "    print(f\"The count of Uppercase letters: {count_of_uppercase}\")\n",
    "    print(f\"The count of Lowercase letters: {count_of_lowercase}\")\n",
    "\n",
    "\n",
    "string = input(\"Enter the string to count: \")\n",
    "counting_of_letters(string)"
   ]
  },
  {
   "cell_type": "markdown",
   "metadata": {},
   "source": [
    "#### 3. Write a Python program with builtin function that checks whether a passed string is palindrome or not."
   ]
  },
  {
   "cell_type": "code",
   "execution_count": 4,
   "metadata": {},
   "outputs": [
    {
     "name": "stdout",
     "output_type": "stream",
     "text": [
      "Heello isn`t palindrome!\n"
     ]
    }
   ],
   "source": [
    "string = input(\"Enter the string to check for palindrome:\")\n",
    "\n",
    "if string == string[::-1]:\n",
    "    print(f\"{string} is palindrome!\")\n",
    "else:\n",
    "    print(f\"{string} isn`t palindrome!\")\n"
   ]
  },
  {
   "cell_type": "markdown",
   "metadata": {},
   "source": [
    "#### 4. Write a Python program that invoke square root function after specific milliseconds. \n",
    "```\n",
    "    Sample Input:\n",
    "    25100\n",
    "    2123\n",
    "    Sample Output:\n",
    "    Square root of 25100 after 2123 miliseconds is 158.42979517754858\n",
    "```\n"
   ]
  },
  {
   "cell_type": "code",
   "execution_count": 3,
   "metadata": {},
   "outputs": [
    {
     "name": "stdout",
     "output_type": "stream",
     "text": [
      "The square root of 3213 after 1000 milliseconds is 56.68333088307355!\n"
     ]
    }
   ],
   "source": [
    "import time, math\n",
    "\n",
    "number = int(input(\"Enter the number to get square root: \"))\n",
    "milliseconds = int(input(\"Enter the milliseconds: \"))\n",
    "\n",
    "time.sleep(milliseconds / 1000)\n",
    "\n",
    "print(f\"The square root of {number} after {milliseconds} milliseconds is {math.sqrt(number)}!\")\n"
   ]
  },
  {
   "cell_type": "markdown",
   "metadata": {},
   "source": [
    "#### 5. Write a Python program with builtin function that returns True if all elements of the tuple are true."
   ]
  },
  {
   "cell_type": "code",
   "execution_count": 5,
   "metadata": {},
   "outputs": [],
   "source": [
    "example_tuple1 = (1, \"nice\", True)\n",
    "example_tuple2 = (0, \"Hello\", True)\n",
    "\n",
    "def checking_true(tuple):\n",
    "    if all(tuple):\n",
    "        print(f\"All element of tuple {tuple} is true!\")\n",
    "    else:\n",
    "        print(f\"One or more of the elements of tuple {tuple} are false\")\n",
    "\n"
   ]
  },
  {
   "cell_type": "markdown",
   "metadata": {},
   "source": [
    "1) When true"
   ]
  },
  {
   "cell_type": "code",
   "execution_count": 6,
   "metadata": {},
   "outputs": [
    {
     "name": "stdout",
     "output_type": "stream",
     "text": [
      "All element of tuple (1, 'nice', True) is true!\n"
     ]
    }
   ],
   "source": [
    "checking_true(example_tuple1)"
   ]
  },
  {
   "cell_type": "markdown",
   "metadata": {},
   "source": [
    "2) When false"
   ]
  },
  {
   "cell_type": "code",
   "execution_count": 7,
   "metadata": {},
   "outputs": [
    {
     "name": "stdout",
     "output_type": "stream",
     "text": [
      "One or more of the elements of tuple (0, 'Hello', True) are false\n"
     ]
    }
   ],
   "source": [
    "checking_true(example_tuple2)"
   ]
  }
 ],
 "metadata": {
  "kernelspec": {
   "display_name": "Python 3",
   "language": "python",
   "name": "python3"
  },
  "language_info": {
   "codemirror_mode": {
    "name": "ipython",
    "version": 3
   },
   "file_extension": ".py",
   "mimetype": "text/x-python",
   "name": "python",
   "nbconvert_exporter": "python",
   "pygments_lexer": "ipython3",
   "version": "3.11.9"
  }
 },
 "nbformat": 4,
 "nbformat_minor": 2
}

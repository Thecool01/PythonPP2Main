{
 "cells": [
  {
   "cell_type": "markdown",
   "metadata": {},
   "source": [
    "#### 1. Write a Python program to list only directories, files and all directories, files in a specified path."
   ]
  },
  {
   "cell_type": "code",
   "execution_count": 9,
   "metadata": {},
   "outputs": [],
   "source": [
    "import os\n",
    "path = os.getcwd()\n",
    "def only_dirs(path):\n",
    "    count = 0\n",
    "    for file in os.listdir(path):\n",
    "        if os.path.isdir(file):\n",
    "            print(file)\n",
    "            count += 1\n",
    "    \n",
    "    if count > 0:\n",
    "        print(f\"{count} directory(ies) founded!\")\n",
    "    else:\n",
    "        print(\"There is no directory in the path!\")\n",
    "\n",
    "def only_files(path):\n",
    "    count = 0\n",
    "    for file in os.listdir(path):\n",
    "        if os.path.isfile(file):\n",
    "            print(file)\n",
    "            count += 1\n",
    "    \n",
    "    if count > 0:\n",
    "        print(f\"{count} file(s) founded!\")\n",
    "    else:\n",
    "        print(\"There is no file in the path!\")\n",
    "\n",
    "def all_dirs_files(path):\n",
    "    print(\"All files and directories:\")\n",
    "    for file in os.listdir(path):\n",
    "        if os.path.isdir(file):\n",
    "            print(f\"{file} - directory\")\n",
    "        else:\n",
    "            print(f\"{file} - file\")"
   ]
  },
  {
   "cell_type": "markdown",
   "metadata": {},
   "source": [
    "1) Only directories"
   ]
  },
  {
   "cell_type": "code",
   "execution_count": 10,
   "metadata": {},
   "outputs": [
    {
     "name": "stdout",
     "output_type": "stream",
     "text": [
      "tasks\n",
      "testfolder1\n",
      "testfolder2\n",
      "3 directory(ies) founded!\n"
     ]
    }
   ],
   "source": [
    "only_dirs(path)"
   ]
  },
  {
   "cell_type": "markdown",
   "metadata": {},
   "source": [
    "2) Only files"
   ]
  },
  {
   "cell_type": "code",
   "execution_count": 12,
   "metadata": {},
   "outputs": [
    {
     "name": "stdout",
     "output_type": "stream",
     "text": [
      "dir_and_files.ipynb\n",
      "1 file(s) founded!\n"
     ]
    }
   ],
   "source": [
    "only_files(path)"
   ]
  },
  {
   "cell_type": "markdown",
   "metadata": {},
   "source": [
    "3) All directories and files"
   ]
  },
  {
   "cell_type": "code",
   "execution_count": 11,
   "metadata": {},
   "outputs": [
    {
     "name": "stdout",
     "output_type": "stream",
     "text": [
      "All files and directories:\n",
      "dir_and_files.ipynb - file\n",
      "tasks - directory\n",
      "testfolder1 - directory\n",
      "testfolder2 - directory\n"
     ]
    }
   ],
   "source": [
    "all_dirs_files(path)"
   ]
  },
  {
   "cell_type": "markdown",
   "metadata": {},
   "source": [
    "#### 2. Write a Python program to check for access to a specified path. Test the existence, readability, writability and executability of the specified path"
   ]
  },
  {
   "cell_type": "code",
   "execution_count": 37,
   "metadata": {},
   "outputs": [],
   "source": [
    "path = r\"C:\\Users\\n_ishutin\\Desktop\\pp2\\PythonPP2Main\\Python\\lab6\\testfolder1\\test1.txt\" # Незабудь поменять на ноуте!!!\n",
    "\n",
    "path2 = r\"C:\\Users\\n_ishutin\\Desktop\\pp2\\PythonPP2Main\\Python\\lab6\\testfolder2\\test2.txt\" # Несуществующий файл\n",
    "def existence(path):\n",
    "    print(\"Checking for existence:\")\n",
    "    if os.path.exists(path):\n",
    "        print(f\"File {os.path.basename(path)} exists!\")\n",
    "    else:\n",
    "        print(\"The file doesn`t exist on the path!\")\n",
    "\n",
    "def readability(path):\n",
    "    print(\"Checking for readability: \")\n",
    "    if os.access(path, os.R_OK):\n",
    "        print(f\"File {os.path.basename(path)} is readable!\")\n",
    "    else:\n",
    "        print(\"File isn`t readable!\")\n",
    "\n",
    "def writability(path):\n",
    "    print(\"Checking for writability: \")\n",
    "    if os.access(path, os.W_OK):\n",
    "        print(f\"File {os.path.basename(path)} is writable!\")\n",
    "    else:\n",
    "        print(\"File isn`t writable!\")\n",
    "\n",
    "def executability(path):\n",
    "    print(\"Checking for executability: \")\n",
    "    if os.access(path, os.W_OK):\n",
    "        print(f\"File {os.path.basename(path)} is executable!\")\n",
    "    else:\n",
    "        print(\"File isn`t executable!\")"
   ]
  },
  {
   "cell_type": "markdown",
   "metadata": {},
   "source": [
    "1) Test the existence"
   ]
  },
  {
   "cell_type": "code",
   "execution_count": 38,
   "metadata": {},
   "outputs": [
    {
     "name": "stdout",
     "output_type": "stream",
     "text": [
      "Checking for existence:\n",
      "File test1.txt exists!\n",
      "Checking for existence:\n",
      "The file doesn`t exist on the path!\n"
     ]
    }
   ],
   "source": [
    "existence(path)\n",
    "existence(path2)"
   ]
  },
  {
   "cell_type": "markdown",
   "metadata": {},
   "source": [
    "2) Readability"
   ]
  },
  {
   "cell_type": "code",
   "execution_count": 39,
   "metadata": {},
   "outputs": [
    {
     "name": "stdout",
     "output_type": "stream",
     "text": [
      "Checking for readability: \n",
      "File test1.txt is readable!\n"
     ]
    }
   ],
   "source": [
    "readability(path)"
   ]
  },
  {
   "cell_type": "markdown",
   "metadata": {},
   "source": [
    "3) Writability"
   ]
  },
  {
   "cell_type": "code",
   "execution_count": 40,
   "metadata": {},
   "outputs": [
    {
     "name": "stdout",
     "output_type": "stream",
     "text": [
      "Checking for writability: \n",
      "File test1.txt is writable!\n"
     ]
    }
   ],
   "source": [
    "writability(path)"
   ]
  },
  {
   "cell_type": "markdown",
   "metadata": {},
   "source": [
    "4) Executability"
   ]
  },
  {
   "cell_type": "code",
   "execution_count": 41,
   "metadata": {},
   "outputs": [
    {
     "name": "stdout",
     "output_type": "stream",
     "text": [
      "Checking for executability: \n",
      "File test1.txt is executable!\n"
     ]
    }
   ],
   "source": [
    "executability(path)"
   ]
  },
  {
   "cell_type": "markdown",
   "metadata": {},
   "source": [
    "#### 3. Write a Python program to test whether a given path exists or not. If the path exist find the filename and directory portion of the given path."
   ]
  },
  {
   "cell_type": "code",
   "execution_count": 47,
   "metadata": {},
   "outputs": [],
   "source": [
    "path = r\"C:\\Users\\n_ishutin\\Desktop\\pp2\\PythonPP2Main\\Python\\lab6\\tasks\\builtin-functions.md\" # Существующий файл\n",
    "\n",
    "path2 = r\"C:\\Users\\n_ishutin\\Desktop\\pp2\\PythonPP2Main\\Python\\lab6\\tasks\\helloworld.txt\" # Нусуществующий файл\n",
    "\n",
    "def check_existence(path):\n",
    "    if os.path.exists(path):\n",
    "        print(f\"File on path: {path} exists!\")\n",
    "\n",
    "        print(f\"Name of the file: {os.path.basename(path)}\")\n",
    "\n",
    "        print(f\"The directory of the file: {os.path.dirname(path)}\")\n",
    "\n",
    "    else:\n",
    "        print(f\"File on path {path} doesn`t exist!\")\n"
   ]
  },
  {
   "cell_type": "markdown",
   "metadata": {},
   "source": [
    "1) If file exists"
   ]
  },
  {
   "cell_type": "code",
   "execution_count": 49,
   "metadata": {},
   "outputs": [
    {
     "name": "stdout",
     "output_type": "stream",
     "text": [
      "File on path: C:\\Users\\n_ishutin\\Desktop\\pp2\\PythonPP2Main\\Python\\lab6\\tasks\\builtin-functions.md exists!\n",
      "Name of the file: builtin-functions.md\n",
      "The directory of the file: C:\\Users\\n_ishutin\\Desktop\\pp2\\PythonPP2Main\\Python\\lab6\\tasks\n"
     ]
    }
   ],
   "source": [
    "check_existence(path)"
   ]
  },
  {
   "cell_type": "markdown",
   "metadata": {},
   "source": [
    "2. If file doesn`t exist"
   ]
  },
  {
   "cell_type": "code",
   "execution_count": 50,
   "metadata": {},
   "outputs": [
    {
     "name": "stdout",
     "output_type": "stream",
     "text": [
      "File on path C:\\Users\\n_ishutin\\Desktop\\pp2\\PythonPP2Main\\Python\\lab6\\tasks\\helloworld.txt doesn`t exist!\n"
     ]
    }
   ],
   "source": [
    "check_existence(path2)"
   ]
  },
  {
   "cell_type": "markdown",
   "metadata": {},
   "source": [
    "#### 4. Write a Python program to count the number of lines in a text file."
   ]
  },
  {
   "cell_type": "code",
   "execution_count": 52,
   "metadata": {},
   "outputs": [
    {
     "name": "stdout",
     "output_type": "stream",
     "text": [
      "The number of lines in test1.txt: 10\n"
     ]
    }
   ],
   "source": [
    "path = r\"C:\\Users\\n_ishutin\\Desktop\\pp2\\PythonPP2Main\\Python\\lab6\\testfolder1\\test1.txt\"\n",
    "\n",
    "def counting_lines(path):\n",
    "    if os.path.exists(path):\n",
    "        \n",
    "        with open(path, \"r\", encoding=\"utf-8\") as file:\n",
    "            line_count = sum(1 for _ in file)\n",
    "\n",
    "        print(f\"The number of lines in {os.path.basename(path)}: {line_count}\")\n",
    "        \n",
    "    else:\n",
    "        print(\"The file doesn`t exist!\")\n",
    "\n",
    "counting_lines(path)"
   ]
  },
  {
   "cell_type": "markdown",
   "metadata": {},
   "source": [
    "#### 5. Write a Python program to write a list to a file."
   ]
  },
  {
   "cell_type": "code",
   "execution_count": 57,
   "metadata": {},
   "outputs": [
    {
     "name": "stdout",
     "output_type": "stream",
     "text": [
      "Data was written successfully!\n"
     ]
    }
   ],
   "source": [
    "import csv\n",
    "\n",
    "path = r\"C:\\Users\\n_ishutin\\Desktop\\pp2\\PythonPP2Main\\Python\\lab6\\list_in_file.csv\"\n",
    "list_of_data = [[\"Project Name\",\"Task Name\",\"Assigned to\",\"Start Date\",\"Days Required\",\"End Date\",\"Progress\"], \n",
    "                [\"Marketing\",\"Market Research\",\t\"Alice\", \"01.01.2024\",13,\"14.01.2024\",\"78%\"],\n",
    "                [\"Marketing\",\"Content Creation\",\"Bob\",\t\"14.01.2024\", 14,\"28.01.2024\",\"100%\"]]\n",
    "\n",
    "with open(path, \"w\", newline=\"\") as filecsv:\n",
    "    writer = csv.writer(filecsv)\n",
    "    writer.writerows(list_of_data)\n",
    "\n",
    "print(\"Data was written successfully!\")"
   ]
  },
  {
   "cell_type": "markdown",
   "metadata": {},
   "source": [
    "#### 6. Write a Python program to generate 26 text files named A.txt, B.txt, and so on up to Z.txt"
   ]
  },
  {
   "cell_type": "code",
   "execution_count": 60,
   "metadata": {},
   "outputs": [],
   "source": [
    "import string\n",
    "\n",
    "path = r\"C:\\Users\\n_ishutin\\Desktop\\pp2\\PythonPP2Main\\Python\\lab6\\generated_txts\"\n",
    "\n",
    "english_upperletters = list(string.ascii_uppercase) # Создаем список из заглавных английских букв\n",
    "for letter in english_upperletters:\n",
    "    open(f\"{path}\\{letter}.txt\", 'w')"
   ]
  },
  {
   "cell_type": "markdown",
   "metadata": {},
   "source": [
    "#### 7. Write a Python program to copy the contents of a file to another file  \n"
   ]
  },
  {
   "cell_type": "code",
   "execution_count": 61,
   "metadata": {},
   "outputs": [
    {
     "name": "stdout",
     "output_type": "stream",
     "text": [
      "Date was successfully copied!\n"
     ]
    }
   ],
   "source": [
    "path1 = r\"C:\\Users\\n_ishutin\\Desktop\\pp2\\PythonPP2Main\\Python\\lab6\\textfile1.txt\"\n",
    "path2 = r\"C:\\Users\\n_ishutin\\Desktop\\pp2\\PythonPP2Main\\Python\\lab6\\textfile2.txt\"\n",
    "\n",
    "with open(path1, \"r\") as file1:\n",
    "    data = file1.read()\n",
    "\n",
    "with open(path2, 'w') as file2:\n",
    "    file2.write(data)\n",
    "\n",
    "print(\"Date was successfully copied!\")"
   ]
  },
  {
   "cell_type": "markdown",
   "metadata": {},
   "source": [
    "#### 8. Write a Python program to delete file by specified path. Before deleting check for access and whether a given path exists or not."
   ]
  },
  {
   "cell_type": "code",
   "execution_count": 65,
   "metadata": {},
   "outputs": [
    {
     "name": "stdout",
     "output_type": "stream",
     "text": [
      "File filetoremove.txt was successfully deleted!\n"
     ]
    }
   ],
   "source": [
    "path = r\"C:\\Users\\n_ishutin\\Desktop\\pp2\\PythonPP2Main\\Python\\lab6\\filetoremove.txt\"\n",
    "\n",
    "if os.path.exists(path):\n",
    "    os.remove(path)\n",
    "    print(f\"File {os.path.basename(path)} was successfully deleted!\")\n",
    "else:\n",
    "    print(\"File doesn`t exist!\")"
   ]
  }
 ],
 "metadata": {
  "kernelspec": {
   "display_name": "base",
   "language": "python",
   "name": "python3"
  },
  "language_info": {
   "codemirror_mode": {
    "name": "ipython",
    "version": 3
   },
   "file_extension": ".py",
   "mimetype": "text/x-python",
   "name": "python",
   "nbconvert_exporter": "python",
   "pygments_lexer": "ipython3",
   "version": "3.11.5"
  }
 },
 "nbformat": 4,
 "nbformat_minor": 2
}

{
 "cells": [
  {
   "cell_type": "markdown",
   "metadata": {},
   "source": [
    "1. Define a class which has at least two methods:\n",
    "`getString`: to get a string from console input\n",
    "`printString`: to print the string in upper case."
   ]
  },
  {
   "cell_type": "code",
   "execution_count": 3,
   "metadata": {},
   "outputs": [
    {
     "name": "stdout",
     "output_type": "stream",
     "text": [
      "String is = Hi\n"
     ]
    }
   ],
   "source": [
    "class String:\n",
    "\n",
    "    def __init__(self):\n",
    "        self.str = \"\"\n",
    "    def getString(self):\n",
    "        self.str = input(\"Enter the string: \")\n",
    "\n",
    "    \n",
    "    def printString(self):\n",
    "        print(f\"String is = {self.str}\")\n",
    "\n",
    "# Example usage\n",
    "string = String()\n",
    "string.getString()\n",
    "string.printString()\n"
   ]
  },
  {
   "cell_type": "markdown",
   "metadata": {},
   "source": [
    "2. Define a class named `Shape` and its subclass `Square`. The `Square` class has an `init` function which takes a `length` as argument. Both classes have a `area` function which can print the area of the shape where Shape's area is 0 by default."
   ]
  },
  {
   "cell_type": "code",
   "execution_count": 6,
   "metadata": {},
   "outputs": [
    {
     "name": "stdout",
     "output_type": "stream",
     "text": [
      "The square area = 16\n"
     ]
    }
   ],
   "source": [
    "class Shape:\n",
    "    def area(self):\n",
    "        return 0\n",
    "class Square(Shape):\n",
    "    def __init__(self, length):\n",
    "        self.length = length\n",
    "    \n",
    "    def area(self):\n",
    "        return self.length ** 2\n",
    "    \n",
    "# Example usage\n",
    "\n",
    "length = int(input(\"Enter the length of the square: \"))\n",
    "\n",
    "sq1 = Square(length)\n",
    "print(f\"The square area = {sq1.area()}\")"
   ]
  },
  {
   "cell_type": "markdown",
   "metadata": {},
   "source": [
    "3. Define a class named `Rectangle` which inherits from `Shape` class from task 2. Class instance can be constructed by a `length` and `width`. The `Rectangle` class has a method which can compute the `area`."
   ]
  },
  {
   "cell_type": "code",
   "execution_count": 1,
   "metadata": {},
   "outputs": [
    {
     "name": "stdout",
     "output_type": "stream",
     "text": [
      "The area of rectangle = 12\n"
     ]
    }
   ],
   "source": [
    "class Shape:\n",
    "    def area(self):\n",
    "        return 0\n",
    "\n",
    "class Rectangle(Shape):\n",
    "    def __init__(self, length, width):\n",
    "        self.length = length\n",
    "        self.width = width\n",
    "    \n",
    "    def area(self):\n",
    "        return self.length * self.width\n",
    "\n",
    "# Example usage\n",
    "\n",
    "length = int(input(\"Enter the length of rectangle: \"))\n",
    "width = int(input(\"Enter the width of rectangle: \"))\n",
    "\n",
    "rect1 = Rectangle(length, width)\n",
    "\n",
    "print(f\"The area of rectangle = {rect1.area()}\")"
   ]
  },
  {
   "cell_type": "markdown",
   "metadata": {},
   "source": [
    "4. Write the definition of a Point class. Objects from this class should have a\n",
    "    - a method `show` to display the coordinates of the point\n",
    "    - a method `move` to change these coordinates\n",
    "    - a method `dist` that computes the distance between 2 points"
   ]
  },
  {
   "cell_type": "code",
   "execution_count": 12,
   "metadata": {},
   "outputs": [
    {
     "name": "stdout",
     "output_type": "stream",
     "text": [
      "Coordinates of the point is x = 3 y = 2\n",
      "Coordinates of the point is x = 9 y = 5\n",
      "Distance between point1 and point2 = 35.014282800023196\n"
     ]
    }
   ],
   "source": [
    "import math\n",
    "class Points:\n",
    "    def __init__(self, x, y):\n",
    "        self.x = x\n",
    "        self.y = y\n",
    "    def show(self):\n",
    "        print(f\"Coordinates of the point is x = {self.x} y = {self.y}\")\n",
    "    \n",
    "    def move(self, newx, newy):\n",
    "        self.x = newx\n",
    "        self.y = newy\n",
    "    \n",
    "    def dist(self, point):\n",
    "        return math.sqrt((self.x - point.x)**2 + (self.y - point.y)**2  )\n",
    "\n",
    "# Example usage\n",
    "point1 = Points(3, 2)\n",
    "point2 = Points(9, 5)\n",
    "\n",
    "point1.show()\n",
    "point2.show()\n",
    "point1.move(10, 40)\n",
    "\n",
    "distance = point1.dist(point2)\n",
    "print(f\"Distance between point1 and point2 = {distance}\")\n"
   ]
  },
  {
   "cell_type": "markdown",
   "metadata": {},
   "source": [
    "5. Create a bank account class that has attributes `owner`, `balance` and two methods `deposit` and `withdraw`. Withdrawals may not exceed the available balance. Instantiate your class, make several deposits and withdrawals, and test to make sure the account can't be overdrawn.\n",
    "```python\n",
    "class Account:\n",
    "    pass\n",
    "```"
   ]
  },
  {
   "cell_type": "code",
   "execution_count": 17,
   "metadata": {},
   "outputs": [
    {
     "name": "stdout",
     "output_type": "stream",
     "text": [
      "Hello Nikolay! Your balance now is 1000 $\n",
      "500 was added successfully! Now balance is 1500$\n",
      "Can't withdraw money. The sum is higher than your balance\n",
      "1000 was withdrawn successfully! Now balance is 500$\n"
     ]
    }
   ],
   "source": [
    "class Account:\n",
    "    def __init__(self, owner, balance):\n",
    "        self.owner = owner\n",
    "        self.balance = balance\n",
    "    \n",
    "    def show(self):\n",
    "        print(f\"Hello {self.owner}! Your balance now is {self.balance} $\")\n",
    "\n",
    "    def deposit(self, sum):\n",
    "        self.balance += sum\n",
    "        print(f\"{sum} was added successfully! Now balance is {self.balance}$\")\n",
    "    \n",
    "    def withdraw(self, sum):\n",
    "        if sum > self.balance:\n",
    "            print(\"Can't withdraw money. The sum is higher than your balance\")\n",
    "        else:\n",
    "            self.balance -= sum\n",
    "            print(f\"{sum} was withdrawn successfully! Now balance is {self.balance}$\")\n",
    "    \n",
    "# Example usage\n",
    "balance1 = Account(\"Nikolay\", 1000)\n",
    "\n",
    "balance1.show()\n",
    "\n",
    "balance1.deposit(500)\n",
    "\n",
    "balance1.withdraw(2000)\n",
    "\n",
    "balance1.withdraw(1000)"
   ]
  },
  {
   "cell_type": "markdown",
   "metadata": {},
   "source": [
    "6. Write a program which can filter prime numbers in a list by using `filter` function.\n",
    "Note: Use `lambda` to define anonymous functions."
   ]
  },
  {
   "cell_type": "code",
   "execution_count": 20,
   "metadata": {},
   "outputs": [
    {
     "name": "stdout",
     "output_type": "stream",
     "text": [
      "Filtered list: [3]\n"
     ]
    }
   ],
   "source": [
    "n = int(input(\"Enter the quantity of numbers: \"))\n",
    "numbers = []\n",
    "for i in range(n):\n",
    "    x = int(input(f\"Enter the number {i+1}: \"))\n",
    "    numbers.append(x)\n",
    "prime_numbers = list(filter(lambda x: x > 1 and all(x % i != 0 for i in range(2, int(x ** 0.5) + 1)), numbers))\n",
    "print(f\"Filtered list: {prime_numbers}\")"
   ]
  }
 ],
 "metadata": {
  "kernelspec": {
   "display_name": "Python 3",
   "language": "python",
   "name": "python3"
  },
  "language_info": {
   "codemirror_mode": {
    "name": "ipython",
    "version": 3
   },
   "file_extension": ".py",
   "mimetype": "text/x-python",
   "name": "python",
   "nbconvert_exporter": "python",
   "pygments_lexer": "ipython3",
   "version": "3.11.9"
  }
 },
 "nbformat": 4,
 "nbformat_minor": 2
}

{
 "cells": [
  {
   "cell_type": "markdown",
   "metadata": {},
   "source": [
    "#### 1. A recipe you are reading states how many grams you need for the ingredient. Unfortunately, your store only sells items in ounces. Create a function to convert grams to ounces. \n",
    "`ounces = 28.3495231 * grams`"
   ]
  },
  {
   "cell_type": "code",
   "execution_count": 2,
   "metadata": {},
   "outputs": [
    {
     "name": "stdout",
     "output_type": "stream",
     "text": [
      "100 grams in onuces = 2834.9523099999997\n"
     ]
    }
   ],
   "source": [
    "def convertion(grams):\n",
    "    return grams * 28.3495231\n",
    "\n",
    "# Example usage\n",
    "\n",
    "x = int(input(\"Enter grams: \"))\n",
    "\n",
    "print(f\"{x} grams in onuces = {convertion(x)}\")"
   ]
  },
  {
   "cell_type": "markdown",
   "metadata": {},
   "source": [
    "#### 2. Read in a Fahrenheit temperature. Calculate and display the equivalent centigrade temperature. The following formula is used for the conversion:\n",
    "`C = (5 / 9) * (F – 32)`"
   ]
  },
  {
   "cell_type": "code",
   "execution_count": 6,
   "metadata": {},
   "outputs": [
    {
     "name": "stdout",
     "output_type": "stream",
     "text": [
      "32.0˚F Fahrenheit in centigrade = 0.0˚C\n"
     ]
    }
   ],
   "source": [
    "def convertion_to_centigrade(fahrenheit):\n",
    "    return (5 / 9) * (fahrenheit - 32)\n",
    "\n",
    "# Example usage\n",
    "\n",
    "x = float(input(\"Enter fahrenheit: \"))\n",
    "\n",
    "print(f\"{x}˚F Fahrenheit in centigrade = {convertion_to_centigrade(x)}˚C\")"
   ]
  },
  {
   "cell_type": "markdown",
   "metadata": {},
   "source": [
    "#### 3. Write a program to solve a classic puzzle: \n",
    "We count 35 heads and 94 legs among the chickens and rabbits in a farm. How many rabbits and how many chickens do we have?\n",
    "`create function: solve(numheads, numlegs):`"
   ]
  },
  {
   "cell_type": "code",
   "execution_count": 10,
   "metadata": {},
   "outputs": [
    {
     "name": "stdout",
     "output_type": "stream",
     "text": [
      "Count of chickens: 23 \n",
      "Count of rabbits: 12\n"
     ]
    }
   ],
   "source": [
    "def solve(numheads, numlegs):\n",
    "    \n",
    "    y = (numlegs - 2 * numheads) // 2\n",
    "    x = numheads - y\n",
    "\n",
    "    return x, y\n",
    "\n",
    "# Example usage:\n",
    "numheads = 35\n",
    "numlegs = 94\n",
    "chickens, rabbit = solve(numheads, numlegs)\n",
    "print(f\"Count of chickens: {chickens} \\nCount of rabbits: {rabbit}\")\n",
    "    \n"
   ]
  },
  {
   "cell_type": "markdown",
   "metadata": {},
   "source": [
    "#### 4. You are given list of numbers separated by spaces. Write a function `filter_prime` which will take list of numbers as an agrument and returns only prime numbers from the list."
   ]
  },
  {
   "cell_type": "code",
   "execution_count": 19,
   "metadata": {},
   "outputs": [
    {
     "name": "stdout",
     "output_type": "stream",
     "text": [
      "Prime numbers: [3, 3]\n"
     ]
    }
   ],
   "source": [
    "import math\n",
    "def filter_prime(numbers):\n",
    "    prime_numbers = []\n",
    "    for i in numbers:\n",
    "        prime = True\n",
    "        for j in range(2, int(math.sqrt(i) + 1)):\n",
    "            if i % j == 0:\n",
    "                prime = False\n",
    "                break\n",
    "        if prime:\n",
    "            prime_numbers.append(i)\n",
    "\n",
    "    return prime_numbers\n",
    "\n",
    "# Example usage\n",
    "\n",
    "numbers = list(map(int, input().split()))\n",
    "\n",
    "print(f\"Prime numbers: {filter_prime(numbers)}\")"
   ]
  },
  {
   "cell_type": "markdown",
   "metadata": {},
   "source": [
    "#### 5. Write a function that accepts string from user and print all permutations of that string."
   ]
  },
  {
   "cell_type": "code",
   "execution_count": 46,
   "metadata": {},
   "outputs": [
    {
     "name": "stdout",
     "output_type": "stream",
     "text": [
      "Nice\n",
      "Niec\n",
      "Ncie\n",
      "Ncei\n",
      "Neic\n",
      "Neci\n",
      "iNce\n",
      "iNec\n",
      "icNe\n",
      "iceN\n",
      "ieNc\n",
      "iecN\n",
      "cNie\n",
      "cNei\n",
      "ciNe\n",
      "cieN\n",
      "ceNi\n",
      "ceiN\n",
      "eNic\n",
      "eNci\n",
      "eiNc\n",
      "eicN\n",
      "ecNi\n",
      "eciN\n"
     ]
    }
   ],
   "source": [
    "from itertools import permutations\n",
    "\n",
    "def string_permutations(s):\n",
    "    for i in permutations(s):\n",
    "        print(\"\".join(i), end=\"\\n\")\n",
    "\n",
    "# Example usage\n",
    "user_input = input(\"Enter string: \")\n",
    "string_permutations(user_input)"
   ]
  },
  {
   "cell_type": "markdown",
   "metadata": {},
   "source": [
    "#### 6. Write a function that accepts string from user, return a sentence with the words reversed.\n",
    "`We are ready -> ready are We`"
   ]
  },
  {
   "cell_type": "code",
   "execution_count": 26,
   "metadata": {},
   "outputs": [
    {
     "name": "stdout",
     "output_type": "stream",
     "text": [
      "Reversed string: ready are We\n"
     ]
    }
   ],
   "source": [
    "def reversed_string(string):\n",
    "    list_string = string.split()\n",
    "    return \" \".join(list_string[::-1])\n",
    "\n",
    "# Example usage\n",
    "\n",
    "string = input(\"Enter a string: \")\n",
    "print(f\"Reversed string: {reversed_string(string)}\")"
   ]
  },
  {
   "cell_type": "markdown",
   "metadata": {},
   "source": [
    "#### 7. Given a list of ints, return True if the array contains a 3 next to a 3 somewhere."
   ]
  },
  {
   "cell_type": "code",
   "execution_count": 25,
   "metadata": {},
   "outputs": [
    {
     "name": "stdout",
     "output_type": "stream",
     "text": [
      "Numbers has no 33\n"
     ]
    }
   ],
   "source": [
    "def has_33(numbers):\n",
    "    for i in range(len(numbers) - 1):\n",
    "        if numbers[i] == 3 and numbers[i + 1] == 3:\n",
    "            return True\n",
    "    return False\n",
    "\n",
    "# Example usage\n",
    "\n",
    "numbers = list(map(int, input().split()))\n",
    "\n",
    "if has_33(numbers):\n",
    "    print(\"Numbers has 33\")\n",
    "else:\n",
    "    print(\"Numbers has no 33\")"
   ]
  },
  {
   "cell_type": "markdown",
   "metadata": {},
   "source": [
    "#### 8. Write a function that takes in a list of integers and returns True if it contains `007` in order"
   ]
  },
  {
   "cell_type": "code",
   "execution_count": 29,
   "metadata": {},
   "outputs": [
    {
     "name": "stdout",
     "output_type": "stream",
     "text": [
      "Code not found\n"
     ]
    }
   ],
   "source": [
    "def spy_game(numbers):\n",
    "    code = []\n",
    "    for i in numbers:\n",
    "        if code != [0, 0, 7]:\n",
    "            if i == 0:\n",
    "                code.append(0)\n",
    "            elif i == 7:\n",
    "                code.append(7)\n",
    "    return code == [0, 0, 7]\n",
    "\n",
    "# Example usage\n",
    "\n",
    "numbers = list(map(int, input().split()))\n",
    "\n",
    "if spy_game(numbers):\n",
    "    print(\"Code found\")\n",
    "else:\n",
    "    print(\"Code not found\")"
   ]
  },
  {
   "cell_type": "markdown",
   "metadata": {},
   "source": [
    "#### 9. Write a function that computes the volume of a sphere given its radius."
   ]
  },
  {
   "cell_type": "code",
   "execution_count": 30,
   "metadata": {},
   "outputs": [
    {
     "name": "stdout",
     "output_type": "stream",
     "text": [
      "The volume of the sphere is 267.94666666666666\n"
     ]
    }
   ],
   "source": [
    "def volume_sphere(radius):\n",
    "    return (4 / 3) * 3.14 * (radius ** 3)\n",
    "\n",
    "# Example usage\n",
    "\n",
    "radius = float(input(\"Enter radius: \"))\n",
    "print(f\"The volume of the sphere is {volume_sphere(radius)}\")"
   ]
  },
  {
   "cell_type": "markdown",
   "metadata": {},
   "source": [
    "#### 10. Write a Python function that takes a list and returns a new list with unique elements of the first list."
   ]
  },
  {
   "cell_type": "code",
   "execution_count": 35,
   "metadata": {},
   "outputs": [
    {
     "name": "stdout",
     "output_type": "stream",
     "text": [
      "Unique elements of first list: [2]\n"
     ]
    }
   ],
   "source": [
    "def unique_elements(list1, list2):\n",
    "    list3 = []\n",
    "    for i in list1:\n",
    "        if i not in list2:\n",
    "            list3.append(i)\n",
    "    return list3\n",
    "\n",
    "# Example usage\n",
    "\n",
    "list1 = list(map(int, input(\"Enter the numbers of first list: \").split()))\n",
    "list2 = list(map(int, input(\"Enter the numbers of second list: \").split()))\n",
    "\n",
    "print(f\"Unique elements of first list: {unique_elements(list1, list2)}\")\n"
   ]
  },
  {
   "cell_type": "markdown",
   "metadata": {},
   "source": [
    "#### 11. Write a Python function that checks whether a word or phrase is `palindrome` or not. Note: A palindrome is word, phrase, or sequence that reads the same backward as forward, e.g., madam"
   ]
  },
  {
   "cell_type": "code",
   "execution_count": 38,
   "metadata": {},
   "outputs": [
    {
     "name": "stdout",
     "output_type": "stream",
     "text": [
      "String is palindrome\n"
     ]
    }
   ],
   "source": [
    "def is_palindrome(string):\n",
    "    return string == ''.join(reversed(string))\n",
    "\n",
    "# Example usage\n",
    "\n",
    "string = input(\"Enter a string: \")\n",
    "if is_palindrome(string):\n",
    "    print(\"String is palindrome\")\n",
    "else:\n",
    "    print(\"String is not palindrome\")"
   ]
  },
  {
   "cell_type": "markdown",
   "metadata": {},
   "source": [
    "#### 12. Define a functino `histogram()` that takes a list of integers and prints a histogram to the screen. For example, `histogram([4, 9, 7])` should print the following:\n",
    "```\n",
    "****\n",
    "*********\n",
    "*******\n",
    "```"
   ]
  },
  {
   "cell_type": "code",
   "execution_count": 40,
   "metadata": {},
   "outputs": [
    {
     "name": "stdout",
     "output_type": "stream",
     "text": [
      "****\n",
      "*********\n",
      "*******\n"
     ]
    }
   ],
   "source": [
    "def histogram(numbers):\n",
    "    for i in numbers:\n",
    "        print('*' * i, end='\\n')\n",
    "\n",
    "# Example usage\n",
    "\n",
    "numbers = list(map(int, input(\"Enter the numbers: \").split()))\n",
    "histogram(numbers)"
   ]
  },
  {
   "cell_type": "markdown",
   "metadata": {},
   "source": [
    "#### 13. Write a program able to play the `\"Guess the number\"` - game, where the number to be guessed is randomly chosen between 1 and 20. This is how it should work when run in a terminal:\n",
    "``` \n",
    "Hello! What is your name?\n",
    "KBTU\n",
    "\n",
    "Well, KBTU, I am thinking of a number between 1 and 20.\n",
    "Take a guess.\n",
    "12\n",
    "\n",
    "Your guess is too low.\n",
    "Take a guess.\n",
    "16\n",
    "\n",
    "Your guess is too low.\n",
    "Take a guess.\n",
    "19\n",
    "\n",
    "Good job, KBTU! You guessed my number in 3 guesses!\n",
    "```"
   ]
  },
  {
   "cell_type": "code",
   "execution_count": 44,
   "metadata": {},
   "outputs": [
    {
     "name": "stdout",
     "output_type": "stream",
     "text": [
      "Well, Kolya, I am thinking of a number between 1 and 20.\n",
      "Your guess is too high.\n",
      "Please enter a number between 1 and 20.\n",
      "Your guess is too high.\n",
      "Your guess is too high.\n",
      "Your guess is too low.\n",
      "Your guess is too high.\n",
      "Your guess is too high.\n",
      "Good job, Kolya! You guessed my number in 6 guesses!\n",
      "The number was 2\n"
     ]
    }
   ],
   "source": [
    "import random\n",
    "def random_number(name):\n",
    "    x = random.randint(1, 20)\n",
    "    print(f\"Well, {name}, I am thinking of a number between 1 and 20.\", end='\\n')\n",
    "    number = int(input(\"Take a guess.\"))\n",
    "    number_of_guesses = 0\n",
    "    while number != x:\n",
    "        if number < 0 or number > 20:\n",
    "            print(\"Please enter a number between 1 and 20.\", end='\\n')\n",
    "            number = int(input(\"Take a guess.\"))\n",
    "        elif number > x:\n",
    "            print(\"Your guess is too high.\", end='\\n')\n",
    "            number = int(input(\"Take a guess.\"))\n",
    "            number_of_guesses += 1\n",
    "        elif number < x:\n",
    "            print(\"Your guess is too low.\", end='\\n')\n",
    "            number = int(input(\"Take a guess.\"))\n",
    "            number_of_guesses += 1\n",
    "    else:\n",
    "        print(f\"Good job, {name}! You guessed my number in {number_of_guesses} guesses!\", end='\\n')\n",
    "        print(f\"The number was {x}\", end='\\n')\n",
    "\n",
    "# Example usage\n",
    "\n",
    "name = input(\"Hello! What is your name?\")\n",
    "random_number(name)"
   ]
  }
 ],
 "metadata": {
  "kernelspec": {
   "display_name": "Python 3",
   "language": "python",
   "name": "python3"
  },
  "language_info": {
   "codemirror_mode": {
    "name": "ipython",
    "version": 3
   },
   "file_extension": ".py",
   "mimetype": "text/x-python",
   "name": "python",
   "nbconvert_exporter": "python",
   "pygments_lexer": "ipython3",
   "version": "3.11.9"
  }
 },
 "nbformat": 4,
 "nbformat_minor": 2
}

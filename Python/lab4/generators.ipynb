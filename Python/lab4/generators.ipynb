{
 "cells": [
  {
   "cell_type": "markdown",
   "metadata": {},
   "source": [
    "#### 1. Create a generator that generates the squares of numbers up to some number `N`."
   ]
  },
  {
   "cell_type": "code",
   "execution_count": 7,
   "metadata": {},
   "outputs": [
    {
     "name": "stdout",
     "output_type": "stream",
     "text": [
      "Square of numbers from 1 to 2: \n",
      "1\n",
      "4\n"
     ]
    }
   ],
   "source": [
    "n = int(input(\"Numbers from 0 to: \"))\n",
    "if n < 1:\n",
    "    print(\"Error: Number is less than 1\")\n",
    "else: \n",
    "    generator = (i ** 2 for i in range(1, n + 1))\n",
    "    print(f\"Square of numbers from 1 to {n}: \")\n",
    "    for num in generator:\n",
    "        print(num)\n"
   ]
  },
  {
   "cell_type": "markdown",
   "metadata": {},
   "source": [
    "#### 2. Write a program using generator to print the even numbers between 0 and `n` in comma separated form where `n` is input from console."
   ]
  },
  {
   "cell_type": "code",
   "execution_count": 13,
   "metadata": {},
   "outputs": [
    {
     "name": "stdout",
     "output_type": "stream",
     "text": [
      "Even numbers from 0 to 6: \n",
      "0, 2, 4, 6\n"
     ]
    }
   ],
   "source": [
    "n = int(input(\"Numbers from 0 to: \"))\n",
    "if n < 1:\n",
    "    print(\"Error: number is less than 1\")\n",
    "else:\n",
    "    generator = (i for i in range(0, n + 1) if i % 2 == 0)\n",
    "    even_numbers = []\n",
    "    for num in generator:\n",
    "        even_numbers.append(str(num))\n",
    "    \n",
    "    print(f\"Even numbers from 0 to {n}: \")\n",
    "    print(\", \".join(even_numbers))\n"
   ]
  },
  {
   "cell_type": "markdown",
   "metadata": {},
   "source": [
    "#### 3. Define a function with a generator which can iterate the numbers, which are divisible by 3 and 4, between a given range 0 and `n`."
   ]
  },
  {
   "cell_type": "code",
   "execution_count": 15,
   "metadata": {},
   "outputs": [
    {
     "name": "stdout",
     "output_type": "stream",
     "text": [
      "0 12 24 36 48 60 72 84 96 108 120 132 "
     ]
    }
   ],
   "source": [
    "def nums_divisible3and4(n):\n",
    "    for i in range(0, n + 1):\n",
    "        if i % 3 == 0 and i % 4 == 0:\n",
    "            yield i\n",
    "\n",
    "n = int(input(\"Numbers for 0 to: \"))\n",
    "if n < 1:\n",
    "    print(\"Error: number is less than 1\")\n",
    "else:\n",
    "    for num in nums_divisible3and4(n):\n",
    "        print(num, end=' ')\n",
    "    "
   ]
  },
  {
   "cell_type": "markdown",
   "metadata": {},
   "source": [
    "#### 4. Implement a generator called `squares` to yield the square of all numbers from (a) to (b). Test it with a \"for\" loop and print each of the yielded values."
   ]
  },
  {
   "cell_type": "code",
   "execution_count": 17,
   "metadata": {},
   "outputs": [
    {
     "name": "stdout",
     "output_type": "stream",
     "text": [
      "Error: a cannot be greater than b\n"
     ]
    }
   ],
   "source": [
    "def square(a, b):\n",
    "    for i in range(a, b + 1):\n",
    "        yield i, i ** 2\n",
    "\n",
    "a = int(input(\"Enter the start: \"))\n",
    "b = int(input(\"Enter the end: \"))\n",
    "if a > b:\n",
    "    print(\"Error: a cannot be greater than b\")\n",
    "else:\n",
    "    for num, square in square(a, b):\n",
    "        print(f\"The square of {num} is ==> {square}\")\n"
   ]
  },
  {
   "cell_type": "markdown",
   "metadata": {},
   "source": [
    "#### 5. Implement a generator that returns all numbers from (n) down to 0."
   ]
  },
  {
   "cell_type": "code",
   "execution_count": 21,
   "metadata": {},
   "outputs": [
    {
     "name": "stdout",
     "output_type": "stream",
     "text": [
      "Number from 30 to 0: \n",
      "30\n",
      "29\n",
      "28\n",
      "27\n",
      "26\n",
      "25\n",
      "24\n",
      "23\n",
      "22\n",
      "21\n",
      "20\n",
      "19\n",
      "18\n",
      "17\n",
      "16\n",
      "15\n",
      "14\n",
      "13\n",
      "12\n",
      "11\n",
      "10\n",
      "9\n",
      "8\n",
      "7\n",
      "6\n",
      "5\n",
      "4\n",
      "3\n",
      "2\n",
      "1\n"
     ]
    }
   ],
   "source": [
    "n = int(input(\"Number down to 0 is: \"))\n",
    "if n < 0:\n",
    "    print(\"Error: n is less than 0\")\n",
    "else:\n",
    "    generator = (i for i in range(n, 0, -1))\n",
    "    print(f\"Number from {n} to 0: \")\n",
    "    for num in generator:\n",
    "        print(num)\n"
   ]
  }
 ],
 "metadata": {
  "kernelspec": {
   "display_name": "base",
   "language": "python",
   "name": "python3"
  },
  "language_info": {
   "codemirror_mode": {
    "name": "ipython",
    "version": 3
   },
   "file_extension": ".py",
   "mimetype": "text/x-python",
   "name": "python",
   "nbconvert_exporter": "python",
   "pygments_lexer": "ipython3",
   "version": "3.11.5"
  }
 },
 "nbformat": 4,
 "nbformat_minor": 2
}

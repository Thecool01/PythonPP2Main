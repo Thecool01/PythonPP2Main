{
 "cells": [
  {
   "cell_type": "markdown",
   "metadata": {},
   "source": [
    "#### 1. Write a Python program to subtract five days from current date."
   ]
  },
  {
   "cell_type": "code",
   "execution_count": 1,
   "metadata": {},
   "outputs": [
    {
     "name": "stdout",
     "output_type": "stream",
     "text": [
      "Current date today is: 2025-02-15\n",
      "After substract five days: 2025-02-10\n"
     ]
    }
   ],
   "source": [
    "import datetime\n",
    "\n",
    "current_date = datetime.date.today()\n",
    "print(f\"Current date today is: {current_date}\")\n",
    "\n",
    "current_date = datetime.date.today() - datetime.timedelta(days=5)\n",
    "\n",
    "print(f\"After substract five days: {current_date}\")"
   ]
  },
  {
   "cell_type": "markdown",
   "metadata": {},
   "source": [
    "#### 2. Write a Python program to print yesterday, today, tomorrow."
   ]
  },
  {
   "cell_type": "code",
   "execution_count": null,
   "metadata": {},
   "outputs": [
    {
     "name": "stdout",
     "output_type": "stream",
     "text": [
      "Yesterday was Friday. Today is Saturday. Tomorrow will be Sunday\n"
     ]
    }
   ],
   "source": [
    "import datetime\n",
    "\n",
    "current_date = datetime.date.today()\n",
    "\n",
    "yesterday = datetime.date.today() - datetime.timedelta(days=1)\n",
    "tomorrow = datetime.date.today() + datetime.timedelta(days=1)\n",
    "print(f\"Yesterday was {yesterday.strftime('%A')}. Today is {current_date.strftime('%A')}. Tomorrow will be {tomorrow.strftime('%A')}.\") "
   ]
  },
  {
   "cell_type": "markdown",
   "metadata": {},
   "source": [
    "#### 3. Write a Python program to drop microseconds from datetime."
   ]
  },
  {
   "cell_type": "code",
   "execution_count": null,
   "metadata": {},
   "outputs": [
    {
     "name": "stdout",
     "output_type": "stream",
     "text": [
      "Original datetime: 2025-02-15 20:14:00.851894\n",
      "Datetime without microseconds: 2025-02-15 20:14:00\n"
     ]
    }
   ],
   "source": [
    "import datetime\n",
    "\n",
    "current_datetime = datetime.datetime.now()\n",
    "\n",
    "datetime_without_microseconds = current_datetime.replace(microsecond=0)\n",
    "\n",
    "print(\"Original datetime:\", current_datetime)\n",
    "print(\"Datetime without microseconds:\", datetime_without_microseconds)\n"
   ]
  },
  {
   "cell_type": "markdown",
   "metadata": {},
   "source": [
    "#### 4. Write a Python program to calculate two date difference in seconds."
   ]
  },
  {
   "cell_type": "code",
   "execution_count": 17,
   "metadata": {},
   "outputs": [
    {
     "name": "stdout",
     "output_type": "stream",
     "text": [
      "The difference between two dates in seconds is: 7948800.0\n"
     ]
    }
   ],
   "source": [
    "import datetime\n",
    "date1 = input(\"Enter the first date in format(DATE-MONTH-YEAR)(Example: 4-6-2003):\")\n",
    "date1 = datetime.datetime.strptime(date1, \"%d-%m-%Y\")\n",
    "\n",
    "date2 = input(\"Enter the second date in format(DATE-MONTH-YEAR)(Example: 4-6-2003):\")\n",
    "date2 = datetime.datetime.strptime(date2, \"%d-%m-%Y\")\n",
    "\n",
    "delta = date1 - date2\n",
    "\n",
    "delta = abs(delta.total_seconds())\n",
    "\n",
    "print(f\"The difference between two dates in seconds is: {delta}\")"
   ]
  }
 ],
 "metadata": {
  "kernelspec": {
   "display_name": "Python 3",
   "language": "python",
   "name": "python3"
  },
  "language_info": {
   "codemirror_mode": {
    "name": "ipython",
    "version": 3
   },
   "file_extension": ".py",
   "mimetype": "text/x-python",
   "name": "python",
   "nbconvert_exporter": "python",
   "pygments_lexer": "ipython3",
   "version": "3.11.9"
  }
 },
 "nbformat": 4,
 "nbformat_minor": 2
}

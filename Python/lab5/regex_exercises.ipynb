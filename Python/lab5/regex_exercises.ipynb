{
 "cells": [
  {
   "cell_type": "markdown",
   "metadata": {},
   "source": [
    "#### 1. Write a Python program that matches a string that has an `'a'` followed by zero or more `'b'`'s."
   ]
  },
  {
   "cell_type": "code",
   "execution_count": 4,
   "metadata": {},
   "outputs": [
    {
     "name": "stdout",
     "output_type": "stream",
     "text": [
      "Found!:  ['abb', 'abbb']\n"
     ]
    }
   ],
   "source": [
    "import re\n",
    "word = \"Abc abbc abbbc\"\n",
    "pattern = r\"ab*\"\n",
    "match = re.findall(pattern, word)\n",
    "\n",
    "if match:\n",
    "    print(\"Found!: \", match)\n",
    "else:\n",
    "    print(\"Not found!\")"
   ]
  },
  {
   "cell_type": "markdown",
   "metadata": {},
   "source": [
    "#### 2. Write a Python program that matches a string that has an `'a'` followed by two to three `'b'`."
   ]
  },
  {
   "cell_type": "code",
   "execution_count": 12,
   "metadata": {},
   "outputs": [
    {
     "name": "stdout",
     "output_type": "stream",
     "text": [
      "Found!:  ['abbb', 'abbb']\n"
     ]
    }
   ],
   "source": [
    "import re\n",
    "word = \"Abbc abbbc abbbbbbc\"\n",
    "pattern = r\"ab{2,3}\"\n",
    "match = re.findall(pattern, word)\n",
    "\n",
    "if match:\n",
    "    print(\"Found!: \", match)\n",
    "else:\n",
    "    print(\"Not found!\")"
   ]
  },
  {
   "cell_type": "markdown",
   "metadata": {},
   "source": [
    "#### 3. Write a Python program to find sequences of lowercase letters joined with a underscore."
   ]
  },
  {
   "cell_type": "code",
   "execution_count": 17,
   "metadata": {},
   "outputs": [
    {
     "name": "stdout",
     "output_type": "stream",
     "text": [
      "Found!:  ['nice_car', 'hi_jack']\n"
     ]
    }
   ],
   "source": [
    "import re\n",
    "word = \"Apple_juice nice_car hello_woRld hi_jack\"\n",
    "pattern = r\"\\b[a-z]+_[a-z]+\\b\"\n",
    "match = re.findall(pattern, word)\n",
    "if match:\n",
    "    print(\"Found!: \", match)\n",
    "else:\n",
    "    print(\"Not found!\")"
   ]
  },
  {
   "cell_type": "markdown",
   "metadata": {},
   "source": [
    "#### 4. Write a Python program to find the sequences of one upper case letter followed by lower case letters."
   ]
  },
  {
   "cell_type": "code",
   "execution_count": 23,
   "metadata": {},
   "outputs": [
    {
     "name": "stdout",
     "output_type": "stream",
     "text": [
      "Found!:  ['Pd', 'Dw', 'Dwwwew']\n"
     ]
    }
   ],
   "source": [
    "import re\n",
    "word = \"DAda Pd AADWp DWADp Dw Dwwwew\"\n",
    "pattern = r\"\\b[A-Z][a-z]+\\b\"\n",
    "match = re.findall(pattern, word)\n",
    "if match:\n",
    "    print(\"Found!: \", match)\n",
    "else:\n",
    "    print(\"Not found!\")"
   ]
  },
  {
   "cell_type": "markdown",
   "metadata": {},
   "source": [
    "#### 5. Write a Python program that matches a string that has an `'a'` followed by anything, ending in `'b'`."
   ]
  },
  {
   "cell_type": "code",
   "execution_count": 30,
   "metadata": {},
   "outputs": [
    {
     "name": "stdout",
     "output_type": "stream",
     "text": [
      "Found!:  ['awdwdw_dkwb akdkwk2kk2fdsk ab axadascxqweb a___ddw---b']\n"
     ]
    }
   ],
   "source": [
    "import re\n",
    "word = \"awdwdw_dkwb akdkwk2kk2fdsk ab axadascxqweb a___ddw---b\"\n",
    "pattern = r\"a.*b\"\n",
    "match = re.findall(pattern, word)\n",
    "if match:\n",
    "    print(\"Found!: \", match)\n",
    "else:\n",
    "    print(\"Not found!\")"
   ]
  },
  {
   "cell_type": "markdown",
   "metadata": {},
   "source": [
    "#### 6. Write a Python program to replace all occurrences of space, comma, or dot with a colon."
   ]
  },
  {
   "cell_type": "code",
   "execution_count": 34,
   "metadata": {},
   "outputs": [
    {
     "name": "stdout",
     "output_type": "stream",
     "text": [
      "Hello::my:name:is:Nikolay!:Im:18:\n"
     ]
    }
   ],
   "source": [
    "import re\n",
    "word = \"Hello, my name is Nikolay! Im 18.\"\n",
    "changed = re.sub(r\"[,. ]\", \":\", word)\n",
    "print(changed)"
   ]
  },
  {
   "cell_type": "markdown",
   "metadata": {},
   "source": [
    "#### 7. Write a python program to convert snake case string to camel case string."
   ]
  },
  {
   "cell_type": "code",
   "execution_count": 3,
   "metadata": {},
   "outputs": [
    {
     "name": "stdout",
     "output_type": "stream",
     "text": [
      "helloWorldExample\n"
     ]
    }
   ],
   "source": [
    "import re\n",
    "\n",
    "snake_case_string = \"hello_world_example\"\n",
    "camel_case_string = re.sub(r'_([a-z])', lambda match: match.group(1).upper(), snake_case_string)\n",
    "\n",
    "print(camel_case_string)"
   ]
  },
  {
   "cell_type": "markdown",
   "metadata": {},
   "source": [
    "> В данном случае мы ищем подчеркивание и маленькую букву. После убираем подчеркивание и делаем первую букву `(group(1))` большой"
   ]
  },
  {
   "cell_type": "markdown",
   "metadata": {},
   "source": [
    "#### 8. Write a Python program to split a string at uppercase letters."
   ]
  },
  {
   "cell_type": "code",
   "execution_count": 36,
   "metadata": {},
   "outputs": [
    {
     "name": "stdout",
     "output_type": "stream",
     "text": [
      "['', 'Hi', 'My', 'Name', 'Is', 'Nikolay']\n"
     ]
    }
   ],
   "source": [
    "import re\n",
    "word = \"HiMyNameIsNikolay\"\n",
    "splited = re.split(r\"(?=[A-Z])\", word)\n",
    "print(splited)"
   ]
  },
  {
   "cell_type": "markdown",
   "metadata": {},
   "source": [
    "#### 9. Write a Python program to insert spaces between words starting with capital letters."
   ]
  },
  {
   "cell_type": "code",
   "execution_count": 37,
   "metadata": {},
   "outputs": [
    {
     "name": "stdout",
     "output_type": "stream",
     "text": [
      "['Hinicegood', 'Hmm', 'Lookdog']\n"
     ]
    }
   ],
   "source": [
    "import re\n",
    "word = \"HinicegoodHmmLookdog\"\n",
    "splited = re.split(r\"(?<!^)(?=[A-Z])\", word) \n",
    "print(splited)\n",
    "\n"
   ]
  },
  {
   "cell_type": "markdown",
   "metadata": {},
   "source": [
    "> LookAhead\n",
    "* Positive LookAhead -- `?=` Говорит: \"После этого места должно быть ..., но мы его не включаем в результат\"\n",
    "* Negative LookAhead -- `?!` Говорит: \"После этого места не должно быть ...\".\n",
    "> LookBehind\n",
    "* Positive LookBehind -- `?<=` Говорит: \"Перед этим местом должно быть ..., но мы его не включаем в результат\".\n",
    "* Negative LookBehind -- `?<!` Говорит: \"Перед этим местом не должно быть ...\"."
   ]
  },
  {
   "cell_type": "markdown",
   "metadata": {},
   "source": [
    "#### 10. Write a Python program to convert a given camel case string to snake case."
   ]
  },
  {
   "cell_type": "code",
   "execution_count": 2,
   "metadata": {},
   "outputs": [
    {
     "name": "stdout",
     "output_type": "stream",
     "text": [
      "camel_case_example\n"
     ]
    }
   ],
   "source": [
    "import re\n",
    "\n",
    "def camel_to_snake(str):\n",
    "    snake_str = re.sub(r'([a-z])([A-Z])', r'\\1_\\2', str)\n",
    "    return snake_str.lower()\n",
    "\n",
    "string = \"CamelCaseExample\"\n",
    "snakestring = camel_to_snake(string)\n",
    "print(snakestring)\n"
   ]
  },
  {
   "cell_type": "markdown",
   "metadata": {},
   "source": [
    "> \\1 и \\2 - это ссылки на захваченные группы "
   ]
  }
 ],
 "metadata": {
  "kernelspec": {
   "display_name": "Python 3",
   "language": "python",
   "name": "python3"
  },
  "language_info": {
   "codemirror_mode": {
    "name": "ipython",
    "version": 3
   },
   "file_extension": ".py",
   "mimetype": "text/x-python",
   "name": "python",
   "nbconvert_exporter": "python",
   "pygments_lexer": "ipython3",
   "version": "3.11.9"
  }
 },
 "nbformat": 4,
 "nbformat_minor": 2
}
